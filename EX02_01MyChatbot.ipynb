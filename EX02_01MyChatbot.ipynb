{
  "nbformat": 4,
  "nbformat_minor": 0,
  "metadata": {
    "colab": {
      "provenance": [],
      "authorship_tag": "ABX9TyPl+Htsv/r5HxNGEqqXMrjI",
      "include_colab_link": true
    },
    "kernelspec": {
      "name": "python3",
      "display_name": "Python 3"
    },
    "language_info": {
      "name": "python"
    }
  },
  "cells": [
    {
      "cell_type": "markdown",
      "metadata": {
        "id": "view-in-github",
        "colab_type": "text"
      },
      "source": [
        "<a href=\"https://colab.research.google.com/github/ginny0410/aop113b/blob/main/EX02_01MyChatbot.ipynb\" target=\"_parent\"><img src=\"https://colab.research.google.com/assets/colab-badge.svg\" alt=\"Open In Colab\"/></a>"
      ]
    },
    {
      "cell_type": "code",
      "execution_count": 5,
      "metadata": {
        "id": "_gn5kpUYN6DX"
      },
      "outputs": [],
      "source": [
        "from google.colab import userdata\n",
        "import google.generativeai as genai\n",
        "\n",
        "genai.configure(api_key=userdata.get('Google_Api_Key'))"
      ]
    },
    {
      "cell_type": "code",
      "source": [
        "generation_config ={\n",
        "    \"temperature\": 1,\n",
        "    \"max_output_tokens\": 1280,\n",
        "}\n",
        "model = genai.GenerativeModel(\n",
        "    model_name = \"gemini-2.0-flash\",\n",
        "    generation_config = generation_config\n",
        ")"
      ],
      "metadata": {
        "id": "o_Y-erPpRal2"
      },
      "execution_count": 6,
      "outputs": []
    },
    {
      "cell_type": "code",
      "source": [
        "from IPython.display import Markdown, display\n",
        "chat = model.start_chat(history=[])\n",
        "nonstop = True\n",
        "while(nonstop):\n",
        "  message = input('You: ')\n",
        "  response = chat.send_message(message)\n",
        "  if message == 'bye':\n",
        "    nonstop = False\n",
        "  print('Bot:')\n",
        "  display(Markdown(response.text))\n",
        "\n",
        "\n"
      ],
      "metadata": {
        "colab": {
          "base_uri": "https://localhost:8080/",
          "height": 212
        },
        "id": "0yOMvplnStzP",
        "outputId": "c8576c5b-f388-4c7a-a647-320ce7feea75"
      },
      "execution_count": 8,
      "outputs": [
        {
          "output_type": "stream",
          "name": "stdout",
          "text": [
            "You: Hi\n",
            "Bot:\n"
          ]
        },
        {
          "output_type": "display_data",
          "data": {
            "text/plain": [
              "<IPython.core.display.Markdown object>"
            ],
            "text/markdown": "Hi there! How can I help you today?\n"
          },
          "metadata": {}
        },
        {
          "output_type": "stream",
          "name": "stdout",
          "text": [
            "You: Nope\n",
            "Bot:\n"
          ]
        },
        {
          "output_type": "display_data",
          "data": {
            "text/plain": [
              "<IPython.core.display.Markdown object>"
            ],
            "text/markdown": "Okay! If you need anything at all, just let me know. Have a great day!\n"
          },
          "metadata": {}
        },
        {
          "output_type": "stream",
          "name": "stdout",
          "text": [
            "You: bye\n",
            "Bot:\n"
          ]
        },
        {
          "output_type": "display_data",
          "data": {
            "text/plain": [
              "<IPython.core.display.Markdown object>"
            ],
            "text/markdown": "Goodbye! Take care.\n"
          },
          "metadata": {}
        }
      ]
    }
  ]
}