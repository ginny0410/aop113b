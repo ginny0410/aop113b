{
  "nbformat": 4,
  "nbformat_minor": 0,
  "metadata": {
    "colab": {
      "provenance": [],
      "authorship_tag": "ABX9TyNaVAHDEA+MtgV5JwColSky",
      "include_colab_link": true
    },
    "kernelspec": {
      "name": "python3",
      "display_name": "Python 3"
    },
    "language_info": {
      "name": "python"
    }
  },
  "cells": [
    {
      "cell_type": "markdown",
      "metadata": {
        "id": "view-in-github",
        "colab_type": "text"
      },
      "source": [
        "<a href=\"https://colab.research.google.com/github/ginny0410/aop113b/blob/main/EX01_02BMI%E8%A8%88%E7%AE%97.ipynb\" target=\"_parent\"><img src=\"https://colab.research.google.com/assets/colab-badge.svg\" alt=\"Open In Colab\"/></a>"
      ]
    },
    {
      "cell_type": "code",
      "execution_count": 1,
      "metadata": {
        "colab": {
          "base_uri": "https://localhost:8080/"
        },
        "id": "7N9CzYppJadV",
        "outputId": "859e7e25-ad0d-4c77-c92a-5652df04edff"
      },
      "outputs": [
        {
          "output_type": "stream",
          "name": "stdout",
          "text": [
            "請輸入體重(kg): 30\n",
            "請輸入身高(m): 1.11111111\n",
            "24.3\n"
          ]
        }
      ],
      "source": [
        "weight = float(input('請輸入體重(kg): '))\n",
        "height = float(input('請輸入身高(m): '))\n",
        "print('BMI: ',round(weight/height**2,1))\n"
      ]
    }
  ]
}