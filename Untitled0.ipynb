{
  "nbformat": 4,
  "nbformat_minor": 0,
  "metadata": {
    "colab": {
      "provenance": [],
      "toc_visible": true,
      "authorship_tag": "ABX9TyNrd5Jt3pP8rodlHO5AimL3",
      "include_colab_link": true
    },
    "kernelspec": {
      "name": "python3",
      "display_name": "Python 3"
    },
    "language_info": {
      "name": "python"
    }
  },
  "cells": [
    {
      "cell_type": "markdown",
      "metadata": {
        "id": "view-in-github",
        "colab_type": "text"
      },
      "source": [
        "<a href=\"https://colab.research.google.com/github/ginny0410/aop113b/blob/main/Untitled0.ipynb\" target=\"_parent\"><img src=\"https://colab.research.google.com/assets/colab-badge.svg\" alt=\"Open In Colab\"/></a>"
      ]
    },
    {
      "cell_type": "code",
      "source": [],
      "metadata": {
        "id": "RcU0Ld8C5hSu"
      },
      "execution_count": null,
      "outputs": []
    },
    {
      "cell_type": "markdown",
      "source": [],
      "metadata": {
        "id": "HcyC5jig-Hzg"
      }
    },
    {
      "cell_type": "markdown",
      "source": [
        "# title\n",
        "## title2\n",
        "\n",
        "next line\n",
        "\n",
        "here\n",
        "\n",
        "list\n",
        "\n",
        "- a\n",
        "- b\n",
        "- c\n",
        "\n",
        "**粗體**\n",
        "*斜體*\n",
        "\n",
        "[Google](google.com,tw)\n",
        "    \n",
        "  - tab\n",
        "\n",
        "![pokemon](https://www.google.com/imgres?q=pokemon&imgurl=https%3A%2F%2Focc-0-8407-92.1.nflxso.net%2Fdnm%2Fapi%2Fv6%2F6AYY37jfdO6hpXcMjf9Yu5cnmO0%2FAAAABeNzg-kMHhUBP4AmHnLsrPYzxKHVceLnkwtLhxZlDssj7KjhStloJR6px7EbquZ83uDcygnWkekxysvuNYVzLQ3GyBMRl2PpU7pO.jpg%3Fr%3Ddb8&imgrefurl=https%3A%2F%2Fwww.netflix.com%2Ftitle%2F81706101&docid=K0gigDA_R2d_kM&tbnid=BOlvvxqqWZApbM&vet=12ahUKEwiFzP-W2cyLAxVjia8BHSSAH6YQM3oECHEQAA..i&w=1024&h=576&hcb=2&ved=2ahUKEwiFzP-W2cyLAxVjia8BHSSAH6YQM3oECHEQAA)\n",
        "\n",
        " ```python\n",
        " print('Hello world')\n",
        " ```\n",
        " ---"
      ],
      "metadata": {
        "id": "tmjaNRgT60kA"
      }
    }
  ]
}