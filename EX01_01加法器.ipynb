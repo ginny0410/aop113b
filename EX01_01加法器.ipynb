{
  "nbformat": 4,
  "nbformat_minor": 0,
  "metadata": {
    "colab": {
      "provenance": [],
      "authorship_tag": "ABX9TyNTxWY1/iAHBj9/GU7E+/G0",
      "include_colab_link": true
    },
    "kernelspec": {
      "name": "python3",
      "display_name": "Python 3"
    },
    "language_info": {
      "name": "python"
    }
  },
  "cells": [
    {
      "cell_type": "markdown",
      "metadata": {
        "id": "view-in-github",
        "colab_type": "text"
      },
      "source": [
        "<a href=\"https://colab.research.google.com/github/ginny0410/aop113b/blob/main/EX01_01%E5%8A%A0%E6%B3%95%E5%99%A8.ipynb\" target=\"_parent\"><img src=\"https://colab.research.google.com/assets/colab-badge.svg\" alt=\"Open In Colab\"/></a>"
      ]
    },
    {
      "cell_type": "code",
      "execution_count": 1,
      "metadata": {
        "colab": {
          "base_uri": "https://localhost:8080/"
        },
        "id": "lOvN_-5EIlIU",
        "outputId": "d6ca18ec-b436-49fd-98c2-1eca1fbe76fa"
      },
      "outputs": [
        {
          "output_type": "stream",
          "name": "stdout",
          "text": [
            "請輸入第一個數字: 20\n",
            "請輸入第二個數字: 30\n",
            "result:  50\n"
          ]
        }
      ],
      "source": [
        "num1= int(input('請輸入第一個數字: '))\n",
        "num2 = int(input('請輸入第二個數字: '))\n",
        "print('result: ', num1 + num2)\n"
      ]
    }
  ]
}