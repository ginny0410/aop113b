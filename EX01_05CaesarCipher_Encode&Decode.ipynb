{
  "nbformat": 4,
  "nbformat_minor": 0,
  "metadata": {
    "colab": {
      "provenance": [],
      "authorship_tag": "ABX9TyOPfPhFPJ/qMk9qg9+/lreW",
      "include_colab_link": true
    },
    "kernelspec": {
      "name": "python3",
      "display_name": "Python 3"
    },
    "language_info": {
      "name": "python"
    }
  },
  "cells": [
    {
      "cell_type": "markdown",
      "metadata": {
        "id": "view-in-github",
        "colab_type": "text"
      },
      "source": [
        "<a href=\"https://colab.research.google.com/github/ginny0410/aop113b/blob/main/EX01_05CaesarCipher_Encode%26Decode.ipynb\" target=\"_parent\"><img src=\"https://colab.research.google.com/assets/colab-badge.svg\" alt=\"Open In Colab\"/></a>"
      ]
    },
    {
      "cell_type": "code",
      "execution_count": 9,
      "metadata": {
        "colab": {
          "base_uri": "https://localhost:8080/"
        },
        "id": "2rvDpgCa7UQZ",
        "outputId": "341148dc-41b2-47f6-e2ce-40b125cfb2ad"
      },
      "outputs": [
        {
          "output_type": "stream",
          "name": "stdout",
          "text": [
            "e8\n",
            "ghzgdjhgashjsdgd\n",
            "opolrpoi{pr{lol\n",
            "d8\n",
            "opolrpoi{pr{lol\n",
            "ghzgdjhgashjsdgd\n"
          ]
        }
      ],
      "source": [
        "for i in range(2):\n",
        "  act = input()\n",
        "  txt = input()\n",
        "  #以輸入的第一個字判斷是加密或解密\n",
        "  act_type = act[0]\n",
        "  #讀act的數字部分\n",
        "  key= int(act[1:])\n",
        "  ntxt = ''\n",
        "  if act_type == 'e':\n",
        "      for c in txt:\n",
        "        #將字符轉為數字格式並加密(往後移key個)\n",
        "        nc = ord(c) + key\n",
        "        #新的字串就是目前已經加密好的字串部分，加上本次循環加密好的部分\n",
        "        ntxt = ntxt + chr(nc)\n",
        "  else:\n",
        "      for c in txt:\n",
        "        #將字符轉為數字格式並解密(往前移key個)\n",
        "        nc = ord(c) - key\n",
        "        ntxt = ntxt + chr(nc)\n",
        "  print(ntxt)\n",
        "\n",
        "\n"
      ]
    }
  ]
}