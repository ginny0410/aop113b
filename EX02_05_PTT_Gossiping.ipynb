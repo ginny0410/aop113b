{
  "nbformat": 4,
  "nbformat_minor": 0,
  "metadata": {
    "colab": {
      "provenance": [],
      "authorship_tag": "ABX9TyNbC2qZCRSVwectAkQgwaQb",
      "include_colab_link": true
    },
    "kernelspec": {
      "name": "python3",
      "display_name": "Python 3"
    },
    "language_info": {
      "name": "python"
    }
  },
  "cells": [
    {
      "cell_type": "markdown",
      "metadata": {
        "id": "view-in-github",
        "colab_type": "text"
      },
      "source": [
        "<a href=\"https://colab.research.google.com/github/ginny0410/aop113b/blob/main/EX02_05_PTT_Gossiping.ipynb\" target=\"_parent\"><img src=\"https://colab.research.google.com/assets/colab-badge.svg\" alt=\"Open In Colab\"/></a>"
      ]
    },
    {
      "cell_type": "code",
      "execution_count": 1,
      "metadata": {
        "colab": {
          "base_uri": "https://localhost:8080/"
        },
        "id": "103w7yRQ9I-N",
        "outputId": "f758269c-5161-4a7a-d10e-5bfa5e572ae4"
      },
      "outputs": [
        {
          "output_type": "execute_result",
          "data": {
            "text/plain": [
              "200"
            ]
          },
          "metadata": {},
          "execution_count": 1
        }
      ],
      "source": [
        "import requests\n",
        "from bs4 import BeautifulSoup\n",
        "\n",
        "url = 'https://www.ptt.cc/bbs/Movie/index.html'\n",
        "response = requests.get(url)\n",
        "response.status_code"
      ]
    },
    {
      "cell_type": "code",
      "source": [
        "soup = BeautifulSoup(response.text,'lxml')\n",
        "soup.title"
      ],
      "metadata": {
        "colab": {
          "base_uri": "https://localhost:8080/"
        },
        "id": "duOiTCt4_aWh",
        "outputId": "dd99b843-0b70-4d3e-e1bb-3a532b79d784"
      },
      "execution_count": 2,
      "outputs": [
        {
          "output_type": "execute_result",
          "data": {
            "text/plain": [
              "<title>看板 movie 文章列表 - 批踢踢實業坊</title>"
            ]
          },
          "metadata": {},
          "execution_count": 2
        }
      ]
    },
    {
      "cell_type": "code",
      "source": [
        "for atcl in soup.find_all('div',class_='r-ent'):\n",
        "  ttle = atcl.find('div',class_='title').a.text\n",
        "  href = 'https://www.ptt.cc' + atcl.find('div',class_='title').a.get('href')\n",
        "  date = atcl.find('div',class_='date').text\n",
        "  print(date,href,ttle)"
      ],
      "metadata": {
        "colab": {
          "base_uri": "https://localhost:8080/"
        },
        "id": "RJH6ik3xBL1K",
        "outputId": "66b879c5-b436-4619-94b9-de53eea13356"
      },
      "execution_count": 9,
      "outputs": [
        {
          "output_type": "stream",
          "name": "stdout",
          "text": [
            " 3/25 https://www.ptt.cc/bbs/movie/M.1742882992.A.C16.html [請益] 月老 原著比電影好看很多嗎?\n",
            " 3/25 https://www.ptt.cc/bbs/movie/M.1742883654.A.D09.html [新聞] 星際寶貝選角太白爭議\n",
            " 9/04 https://www.ptt.cc/bbs/movie/M.1630756788.A.1FE.html [公告] 電影板板規 2022/12/5\n",
            " 9/15 https://www.ptt.cc/bbs/movie/M.1694784041.A.89F.html [公告] 禁政治版規 及 投票結果\n"
          ]
        }
      ]
    },
    {
      "cell_type": "code",
      "source": [
        "'https://www.ptt.cc' + soup.find_all('a',class_='btn wide')[1].get('href')"
      ],
      "metadata": {
        "colab": {
          "base_uri": "https://localhost:8080/",
          "height": 36
        },
        "id": "AvSqVcX4C4FR",
        "outputId": "a3281ddd-83d1-48a0-b3ac-e5367f58e6ad"
      },
      "execution_count": 11,
      "outputs": [
        {
          "output_type": "execute_result",
          "data": {
            "text/plain": [
              "'https://www.ptt.cc/bbs/movie/index10542.html'"
            ],
            "application/vnd.google.colaboratory.intrinsic+json": {
              "type": "string"
            }
          },
          "metadata": {},
          "execution_count": 11
        }
      ]
    },
    {
      "cell_type": "code",
      "source": [
        "def get_articles(url):\n",
        "  response = requests.get(url)\n",
        "  soup = BeautifulSoup(response.text,'lxml')\n",
        "  for atcl in soup.find_all('div',class_='r-ent'):\n",
        "    if atcl.find('div',class_='title').a:\n",
        "      ttle = atcl.find('div',class_='title').a.text\n",
        "      href = 'https://www.ptt.cc' + atcl.find('div',class_='title').a.get('href')\n",
        "    else:\n",
        "      ttle = atcl.find('div',class_='title').text #沒有href但可以放text\n",
        "      href = ''\n",
        "    date = atcl.find('div',class_='date').text\n",
        "    print(date,href,ttle)\n",
        "  url = 'https://www.ptt.cc' + soup.find_all('a',class_='btn wide')[1].get('href')\n",
        "  return url\n",
        "\n",
        "\n",
        "url = 'https://www.ptt.cc/bbs/Gossiping/index.html'\n",
        "for i in range(5):\n",
        "  url = get_articles(url)"
      ],
      "metadata": {
        "colab": {
          "base_uri": "https://localhost:8080/"
        },
        "id": "AmE3oKcoEA4M",
        "outputId": "447e07f5-7d7b-4742-b42f-4af2b5ac3665"
      },
      "execution_count": 15,
      "outputs": [
        {
          "output_type": "stream",
          "name": "stdout",
          "text": [
            " 3/25 https://www.ptt.cc/bbs/Gossiping/M.1742886853.A.F1F.html Re: [問卦] 在中國宣揚台獨會怎麼樣\n",
            " 3/25 https://www.ptt.cc/bbs/Gossiping/M.1742886948.A.5E6.html [問卦] 開獎看到這個如何調適\n",
            " 3/25 https://www.ptt.cc/bbs/Gossiping/M.1742887010.A.89A.html Re: [問卦]  我不認同你的觀點 但是我誓死捍衛你說\n",
            " 3/25 https://www.ptt.cc/bbs/Gossiping/M.1742887012.A.67D.html Re: [問卦]  我不認同你的觀點 但是我誓死捍衛你說\n",
            " 3/25 https://www.ptt.cc/bbs/Gossiping/M.1742887027.A.5F3.html [問卦] 亞亞真的太蠢了\n",
            " 3/25 https://www.ptt.cc/bbs/Gossiping/M.1742887100.A.5F1.html [問卦] 記者快來！中國網友一千留言要台灣放人\n",
            " 3/25 https://www.ptt.cc/bbs/Gossiping/M.1742887102.A.21F.html [問卦] 一輩子只能吃速食店怎麼選\n",
            " 3/25 https://www.ptt.cc/bbs/Gossiping/M.1742887137.A.FF6.html [問卦] 小微跟恩綺現在在幹嘛？\n",
            " 3/25 https://www.ptt.cc/bbs/Gossiping/M.1742887144.A.119.html [問卦] 金價會無止盡上漲嗎？\n",
            " 3/25 https://www.ptt.cc/bbs/Gossiping/M.1742887156.A.6CE.html [問卦]比特犬咬人很多人說是養的人問題 也不去領\n",
            " 3/25 https://www.ptt.cc/bbs/Gossiping/M.1742887224.A.B0A.html [新聞] 涮樂和牛羅東店食物中毒檢驗曝　疾管署：\n",
            "11/02 https://www.ptt.cc/bbs/Gossiping/M.1730554547.A.41C.html Fw: [公告] 請留意新註冊帳號使用信件詐騙\n",
            " 1/21 https://www.ptt.cc/bbs/Gossiping/M.1737398137.A.644.html [公告] 八卦板板規(2025.01.21)\n",
            " 2/20 https://www.ptt.cc/bbs/Gossiping/M.1740024219.A.1EB.html [公告]  春季大反攻！！八卦板主徵選報名開始捏\n",
            " 3/12 https://www.ptt.cc/bbs/Gossiping/M.1741791500.A.EB6.html Fw: [公告] 請避免與登入1次之帳號進行交易 發錢\n",
            " 3/25 https://www.ptt.cc/bbs/Gossiping/M.1742886039.A.5D0.html [問卦] 中國官方怎麼看亞亞被送回國？\n",
            " 3/25 https://www.ptt.cc/bbs/Gossiping/M.1742886055.A.DBF.html [問卦]  我不認同你的觀點 但是我誓死捍衛你說\n",
            " 3/25 https://www.ptt.cc/bbs/Gossiping/M.1742886141.A.727.html Re: [問卦] 在中國宣揚台獨會怎麼樣\n",
            " 3/25 https://www.ptt.cc/bbs/Gossiping/M.1742886165.A.FAA.html [問卦] 子爵夫人比「2」是什麼意思？\n",
            " 3/25 https://www.ptt.cc/bbs/Gossiping/M.1742886190.A.643.html [問卦] 看不懂獵人是正常的嗎\n",
            " 3/25 https://www.ptt.cc/bbs/Gossiping/M.1742886289.A.7AD.html [新聞] 普發1萬領得到？謝龍介說賴清德可能還會\n",
            " 3/25 https://www.ptt.cc/bbs/Gossiping/M.1742886293.A.4BD.html [問卦] HPV 9價疫苗 打完第2劑後的防護力多少\n",
            " 3/25 https://www.ptt.cc/bbs/Gossiping/M.1742886304.A.876.html [問卦] 公司地址宅配週六無法收，是誰的錯\n",
            " 3/25 https://www.ptt.cc/bbs/Gossiping/M.1742886333.A.254.html Re: [問卦] 在中國宣揚台獨會怎麼樣\n",
            " 3/25 https://www.ptt.cc/bbs/Gossiping/M.1742886358.A.63D.html Re: [問卦]  我不認同你的觀點 但是我誓死捍衛你說\n",
            " 3/25 https://www.ptt.cc/bbs/Gossiping/M.1742886375.A.59B.html [問卦] 為什麼台灣網紅這麼重要？\n",
            " 3/25 https://www.ptt.cc/bbs/Gossiping/M.1742886420.A.32D.html [問卦] 減肥怎麼樣都減不下來？\n",
            " 3/25 https://www.ptt.cc/bbs/Gossiping/M.1742886425.A.89A.html [新聞] 林志潔遭質疑「請咖啡甜點換連署」 辯這\n",
            " 3/25 https://www.ptt.cc/bbs/Gossiping/M.1742886520.A.894.html Re: [問卦] 亞亞的老公到底是誰？姓黃？姓余？\n",
            " 3/25 https://www.ptt.cc/bbs/Gossiping/M.1742886548.A.CB1.html Re: [問卦] 在中國宣揚台獨會怎麼樣\n",
            " 3/25 https://www.ptt.cc/bbs/Gossiping/M.1742886571.A.5B2.html [問卦] 亞亞今天23：59開始在廁所大便\n",
            " 3/25 https://www.ptt.cc/bbs/Gossiping/M.1742886574.A.7AE.html [問卦] 亞亞的先生可以申請國賠嗎\n",
            " 3/25 https://www.ptt.cc/bbs/Gossiping/M.1742886582.A.734.html [問卦] 我們與惡的距離II被目標觀眾群抵制了\n",
            " 3/25 https://www.ptt.cc/bbs/Gossiping/M.1742886780.A.D39.html Re: [問卦]  我不認同你的觀點 但是我誓死捍衛你說\n",
            " 3/25 https://www.ptt.cc/bbs/Gossiping/M.1742886787.A.671.html Re: [問卦]  我不認同你的觀點 但是我誓死捍衛你說\n",
            " 3/25 https://www.ptt.cc/bbs/Gossiping/M.1742885099.A.2F5.html Re: [問卦]亞亞最後絕招是不是只剩公開支持台獨\n",
            " 3/25 https://www.ptt.cc/bbs/Gossiping/M.1742885188.A.A08.html [問卦] 中國政府真的很有錢！！\n",
            " 3/25 https://www.ptt.cc/bbs/Gossiping/M.1742885222.A.0A1.html [問卦] 還有人記得假電子發票和假環保袋嗎？\n",
            " 3/25 https://www.ptt.cc/bbs/Gossiping/M.1742885280.A.129.html Re: [新聞] 「胖一點」能抗癌？醫證實：存活率比\n",
            " 3/25 https://www.ptt.cc/bbs/Gossiping/M.1742885375.A.F7E.html [新聞] 快訊／東京地方法院下令「統一教」解散！\n",
            " 3/25 https://www.ptt.cc/bbs/Gossiping/M.1742885408.A.CDC.html [問卦] 台灣9年來沒什麼變？\n",
            " 3/25 https://www.ptt.cc/bbs/Gossiping/M.1742885457.A.2BC.html [新聞] 近三年預售屋賣約5.4兆元 業者：未來房\n",
            " 3/25 https://www.ptt.cc/bbs/Gossiping/M.1742885463.A.29C.html Re: [問卦] 華爾街日報：中國準備封鎖台灣？\n",
            " 3/25 https://www.ptt.cc/bbs/Gossiping/M.1742885538.A.A9C.html [問卦] 吃到飽店員會不會很討厭只點同一樣東西的\n",
            " 3/25 https://www.ptt.cc/bbs/Gossiping/M.1742885551.A.EEE.html Re: [問卦] 在中國宣揚台獨會怎麼樣\n",
            " 3/25 https://www.ptt.cc/bbs/Gossiping/M.1742885572.A.490.html [問卦] 物價飆漲後，行情變得好亂\n",
            " 3/25 https://www.ptt.cc/bbs/Gossiping/M.1742885610.A.DF3.html [問卦] 要是亞亞自殺的話 你各位都是殺人兇手\n",
            " 3/25 https://www.ptt.cc/bbs/Gossiping/M.1742885643.A.D0D.html [新聞] 首購悲歌！千萬元內建案行政區剩9個 專家\n",
            " 3/25 https://www.ptt.cc/bbs/Gossiping/M.1742885648.A.49F.html [問卦] 亞亞是誰 很重要嗎？\n",
            " 3/25 https://www.ptt.cc/bbs/Gossiping/M.1742885764.A.432.html [問卦] 台灣水價是不是真的非常的便宜？？\n",
            " 3/25 https://www.ptt.cc/bbs/Gossiping/M.1742885770.A.7A3.html [問卦] 其實吃到飽吃太多真的會被黑名單嗎\n",
            " 3/25 https://www.ptt.cc/bbs/Gossiping/M.1742885792.A.14A.html [問卦] 有沒有換位置換腦袋怎麼調適的卦\n",
            " 3/25 https://www.ptt.cc/bbs/Gossiping/M.1742885895.A.7D9.html [問卦] 宣揚五筒跟包大陸二奶哪個嚴重\n",
            " 3/25 https://www.ptt.cc/bbs/Gossiping/M.1742885968.A.B6E.html Re: [問卦] 要是亞亞自殺的話 你各位都是殺人兇手\n",
            " 3/25 https://www.ptt.cc/bbs/Gossiping/M.1742886010.A.FC2.html [問卦] 亞亞跟八炯 有沒有同文同種的味道\n",
            " 3/25 https://www.ptt.cc/bbs/Gossiping/M.1742884284.A.D53.html Re: [新聞] 快訊／大逆轉！借派出所臨停挨轟耍特權\n",
            " 3/25 https://www.ptt.cc/bbs/Gossiping/M.1742884296.A.218.html [新聞] 很忙！出席藍罷團「地動刪瑤」總部　朱\n",
            " 3/25 https://www.ptt.cc/bbs/Gossiping/M.1742884313.A.69C.html [問卦] 哪時候才會重視工安？\n",
            " 3/25 https://www.ptt.cc/bbs/Gossiping/M.1742884342.A.EC0.html [問卦] 劍湖山484快不行了？\n",
            " 3/25 https://www.ptt.cc/bbs/Gossiping/M.1742884344.A.276.html [問卦] 喜歡泰國妹勝於日本妹正常嗎？\n",
            " 3/25 https://www.ptt.cc/bbs/Gossiping/M.1742884380.A.B52.html [問卦] 關稅戰開始了嗎\n",
            " 3/25 https://www.ptt.cc/bbs/Gossiping/M.1742884399.A.4EC.html [問卦] 常把財富自由掛在嘴邊的工作有哪些？\n",
            " 3/25 https://www.ptt.cc/bbs/Gossiping/M.1742884476.A.0C3.html [問卦] 謝祖武這輩子有沒有演過一個知名律師角色\n",
            " 3/25  \n",
            "\t\t\t\n",
            "\t\t\t\t(本文已被刪除) [toughlove]\n",
            "\t\t\t\n",
            "\t\t\t\n",
            " 3/25 https://www.ptt.cc/bbs/Gossiping/M.1742884576.A.FBB.html [問卦] 如果一陣子沒中國新聞會怎樣\n",
            " 3/25 https://www.ptt.cc/bbs/Gossiping/M.1742884684.A.C5E.html [新聞] 離台倒數！亞亞拒絕出境　移民署將強制\n",
            " 3/25 https://www.ptt.cc/bbs/Gossiping/M.1742884684.A.D91.html [問卦] 為什麼分享美食要放假臉\n",
            " 3/25 https://www.ptt.cc/bbs/Gossiping/M.1742884765.A.91D.html [問卦] 統整一下現在各地雞排都多少？\n",
            " 3/25 https://www.ptt.cc/bbs/Gossiping/M.1742884847.A.6AC.html [問卦] 現下要怎麼省錢又吃出健康？\n",
            " 3/25 https://www.ptt.cc/bbs/Gossiping/M.1742884919.A.4AB.html Re: [問卦] 兩岸戰爭 不靠美國台灣要如何才守得住？\n",
            " 3/25 https://www.ptt.cc/bbs/Gossiping/M.1742884935.A.6E3.html [問卦] 甲片影劇為何台灣拍不贏泰國\n",
            " 3/25 https://www.ptt.cc/bbs/Gossiping/M.1742884965.A.673.html [問卦] 金秀賢上台做什麼才能洗白？\n",
            " 3/25 https://www.ptt.cc/bbs/Gossiping/M.1742884967.A.2D9.html [問卦] 讀復興中學的都是非富即貴嗎？\n",
            " 3/25 https://www.ptt.cc/bbs/Gossiping/M.1742885022.A.0A7.html [問卦] 在中國宣揚台獨會怎麼樣\n",
            " 3/25 https://www.ptt.cc/bbs/Gossiping/M.1742885050.A.860.html [問卦] 女生要是太緊 叫你憋一下先別射該怎辦?\n",
            " 3/25 https://www.ptt.cc/bbs/Gossiping/M.1742883696.A.9A9.html [新聞] 國民黨曝：年輕人吹起「台灣人反綠」風\n",
            " 3/25  \n",
            "\t\t\t\n",
            "\t\t\t\t(本文已被刪除) [ar0387959310]\n",
            "\t\t\t\n",
            "\t\t\t\n",
            " 3/25 https://www.ptt.cc/bbs/Gossiping/M.1742883807.A.F6E.html [問卦] 西班牙、荷蘭、法蘭西要武統台灣會怎樣\n",
            " 3/25 https://www.ptt.cc/bbs/Gossiping/M.1742883822.A.4C0.html Re: [問卦] 沒人發現日本人莫名奇妙就跌落神壇了嗎！\n",
            " 3/25 https://www.ptt.cc/bbs/Gossiping/M.1742883884.A.73B.html Re: [問卦] 有蘋果筆電的人很愛拿出來秀?\n",
            " 3/25 https://www.ptt.cc/bbs/Gossiping/M.1742883900.A.FBE.html [問卦] 孤獨美食家的主角還能吃幾年？\n",
            " 3/25 https://www.ptt.cc/bbs/Gossiping/M.1742883931.A.C09.html Re: [問卦] 捷運上一直咳又不帶口罩有心理疾病嗎\n",
            " 3/25 https://www.ptt.cc/bbs/Gossiping/M.1742883985.A.CC7.html [問卦] 大家有多久沒中過統一發票?\n",
            " 3/25 https://www.ptt.cc/bbs/Gossiping/M.1742883992.A.F82.html [問卦] 蝦皮自取店 櫃位裡有不同人包裹？\n",
            " 3/25 https://www.ptt.cc/bbs/Gossiping/M.1742884007.A.4C2.html [問卦] 太大會叫女友忍一下嗎？\n",
            " 3/25 https://www.ptt.cc/bbs/Gossiping/M.1742884025.A.D1B.html [問卦] 為啥以前老闆不會用即時通辦公\n",
            " 3/25 https://www.ptt.cc/bbs/Gossiping/M.1742884032.A.39F.html [問卦] 多喝水真的有益身體健康嗎？  \n",
            " 3/25 https://www.ptt.cc/bbs/Gossiping/M.1742884046.A.B69.html [問卦] 羅傑的巔峰是在第一集嗎\n",
            " 3/25 https://www.ptt.cc/bbs/Gossiping/M.1742884077.A.79A.html [問卦] 行人專用號誌是萬靈丹嗎\n",
            " 3/25 https://www.ptt.cc/bbs/Gossiping/M.1742884123.A.F23.html [新聞] 槓陸配亞亞！　八炯、閩南狼衝內政部「\n",
            " 3/25 https://www.ptt.cc/bbs/Gossiping/M.1742884191.A.262.html Re: [新聞] 藍提反廢死反戒嚴公投 卓榮泰盼能停止就\n",
            " 3/25 https://www.ptt.cc/bbs/Gossiping/M.1742884200.A.9B0.html [問卦] 想對發票但還在上班\n",
            " 3/25 https://www.ptt.cc/bbs/Gossiping/M.1742884201.A.5F0.html [問卦] 找越南妹當老婆要花多少錢\n",
            " 3/25 https://www.ptt.cc/bbs/Gossiping/M.1742884239.A.51A.html [問卦] 兩岸戰爭 不靠美國台灣要如何才守得住？\n",
            " 3/25 https://www.ptt.cc/bbs/Gossiping/M.1742884264.A.37D.html Re: [問卦] 日本最大的陵墓埋的是中國人呀\n"
          ]
        }
      ]
    }
  ]
}