{
  "nbformat": 4,
  "nbformat_minor": 0,
  "metadata": {
    "colab": {
      "provenance": [],
      "authorship_tag": "ABX9TyOJLBGEf1C1Guzn0/nIb/CS",
      "include_colab_link": true
    },
    "kernelspec": {
      "name": "python3",
      "display_name": "Python 3"
    },
    "language_info": {
      "name": "python"
    }
  },
  "cells": [
    {
      "cell_type": "markdown",
      "metadata": {
        "id": "view-in-github",
        "colab_type": "text"
      },
      "source": [
        "<a href=\"https://colab.research.google.com/github/ginny0410/aop113b/blob/main/EX01_04%E7%B5%82%E6%A5%B5%E5%AF%86%E7%A2%BC.ipynb\" target=\"_parent\"><img src=\"https://colab.research.google.com/assets/colab-badge.svg\" alt=\"Open In Colab\"/></a>"
      ]
    },
    {
      "cell_type": "code",
      "execution_count": 5,
      "metadata": {
        "id": "_VhqC_6SO-ew",
        "colab": {
          "base_uri": "https://localhost:8080/"
        },
        "outputId": "a2930d20-c730-4849-d75c-0246ae42c3f7"
      },
      "outputs": [
        {
          "output_type": "stream",
          "name": "stdout",
          "text": [
            "請輸入1到99間的數字:1\n",
            "請輸入1到99間的數字:667\n",
            "輸入錯誤，請重新輸入\n",
            "請輸入1-99間的數字:67\n",
            "請輸入67到99間的數字:88\n",
            "請輸入67到88間的數字:77\n",
            "請輸入77到88間的數字:80\n",
            "請輸入80到88間的數字:85\n",
            "請輸入80到85間的數字:82\n",
            "請輸入80到82間的數字:81\n",
            "恭喜答對了！\n"
          ]
        }
      ],
      "source": [
        "import random\n",
        "#生成1-99間的隨機數\n",
        "min = 1\n",
        "max = 99\n",
        "ans = random.randint(min,max)\n",
        "#判斷遊戲是否結束\n",
        "notyet = True\n",
        "while notyet:\n",
        "  #讀取用戶輸入\n",
        "  guess = int(input(f\"請輸入{min}到{max}間的數字:\"))\n",
        "  #確定輸入符合規定範圍，否則重新輸入\n",
        "  while guess < min or guess > max:\n",
        "    print(\"輸入錯誤，請重新輸入\")\n",
        "    guess = int(input(\"請輸入1-99間的數字:\"))\n",
        "  #判斷是否與答案相等，是的話輸出\n",
        "  if guess == ans:\n",
        "    print(\"恭喜答對了！\")\n",
        "    notyet = False\n",
        "  #如果與答案不同，則給出新的範圍並進入下一次循環\n",
        "  elif guess < ans:\n",
        "    min = guess\n",
        "  else:\n",
        "    max = guess\n",
        "\n",
        "\n"
      ]
    },
    {
      "cell_type": "code",
      "source": [
        "#加猜測次數版\n",
        "import random\n",
        "#初始化變量\n",
        "min = 1\n",
        "max = 99\n",
        "ans = random.randint(min,max)\n",
        "count = 0\n",
        "notyet = True\n",
        "\n",
        "while notyet :\n",
        "  guess = int(input(f\"請輸入{min}到{max}間的數字:\"))\n",
        "  #檢查輸入\n",
        "  while guess > max or guess < min:\n",
        "    print(\"輸入錯誤，請重新輸入\")\n",
        "    guess = int(input(f\"請輸入{min}到{max}間的數字:\"))\n",
        "  #計算猜測次數\n",
        "  count += 1\n",
        "  #判斷答案，若不正確則更新範圍\n",
        "  if guess == ans:\n",
        "    print(f\"恭喜答對了！共猜了{count}次\")\n",
        "    notyet = False\n",
        "  elif guess < ans:\n",
        "    min = guess\n",
        "  else:\n",
        "    max = guess\n",
        "\n",
        "\n",
        "\n",
        "\n"
      ],
      "metadata": {
        "colab": {
          "base_uri": "https://localhost:8080/"
        },
        "id": "HKlWTkvW27UN",
        "outputId": "21b9252f-8125-45b9-cd9d-bfb3867b5513"
      },
      "execution_count": 8,
      "outputs": [
        {
          "output_type": "stream",
          "name": "stdout",
          "text": [
            "請輸入1到99間的數字:50\n",
            "請輸入50到99間的數字:75\n",
            "請輸入75到99間的數字:88\n",
            "請輸入88到99間的數字:95\n",
            "請輸入95到99間的數字:97\n",
            "請輸入97到99間的數字:98\n",
            "恭喜答對了！共猜了6次\n"
          ]
        }
      ]
    }
  ]
}