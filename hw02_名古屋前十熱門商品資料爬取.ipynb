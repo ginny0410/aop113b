{
  "nbformat": 4,
  "nbformat_minor": 0,
  "metadata": {
    "colab": {
      "provenance": [],
      "include_colab_link": true
    },
    "kernelspec": {
      "name": "python3",
      "display_name": "Python 3"
    },
    "language_info": {
      "name": "python"
    }
  },
  "cells": [
    {
      "cell_type": "markdown",
      "metadata": {
        "id": "view-in-github",
        "colab_type": "text"
      },
      "source": [
        "<a href=\"https://colab.research.google.com/github/ginny0410/aop113b/blob/main/hw02_%E5%90%8D%E5%8F%A4%E5%B1%8B%E5%89%8D%E5%8D%81%E7%86%B1%E9%96%80%E5%95%86%E5%93%81%E8%B3%87%E6%96%99%E7%88%AC%E5%8F%96.ipynb\" target=\"_parent\"><img src=\"https://colab.research.google.com/assets/colab-badge.svg\" alt=\"Open In Colab\"/></a>"
      ]
    },
    {
      "cell_type": "markdown",
      "source": [
        "# HW02 Web Crawler"
      ],
      "metadata": {
        "id": "eo72fZ0YlURV"
      }
    },
    {
      "cell_type": "markdown",
      "source": [
        "## 題目"
      ],
      "metadata": {
        "id": "gUsBAopRJMJD"
      }
    },
    {
      "cell_type": "code",
      "source": [
        "名古屋前十熱門商品資料爬取"
      ],
      "metadata": {
        "id": "RtsHbtRy2ayO"
      },
      "execution_count": null,
      "outputs": []
    },
    {
      "cell_type": "markdown",
      "source": [],
      "metadata": {
        "id": "pDHhflLyJRgS"
      }
    },
    {
      "cell_type": "markdown",
      "source": [
        "## 摘要"
      ],
      "metadata": {
        "id": "hbqT3pl04Hl9"
      }
    },
    {
      "cell_type": "markdown",
      "source": [
        "本報告旨在透過網路爬蟲技術，收集 KKday 網站日本名古屋地區的前十名推薦商品資料，為旅遊提供參考。"
      ],
      "metadata": {
        "id": "eweMw-wh4TC0"
      }
    },
    {
      "cell_type": "markdown",
      "source": [
        "## 引言"
      ],
      "metadata": {
        "id": "9nb1aHAM4XiE"
      }
    },
    {
      "cell_type": "markdown",
      "source": [
        "隨著疫情解封，旅遊需求增加，而日本與台灣地理位置較為鄰近，成為許多人出遊首選，除了大家普遍熟知的東京、大阪等地區外，也希望藉由資料爬取，了解名古屋的旅遊選項，作為暑期旅遊規畫之參考。\n",
        "\n",
        "本次爬蟲的目標是獲取 KKday 平台上名古屋前十名商品推薦，分析其價格、評價以及商品內容等資訊，為行程安排提供決策支持。\n",
        "\n",
        "---\n",
        "\n"
      ],
      "metadata": {
        "id": "0ZmT034r5F9R"
      }
    },
    {
      "cell_type": "markdown",
      "source": [
        "## 方法"
      ],
      "metadata": {
        "id": "8YMFd39F4n4l"
      }
    },
    {
      "cell_type": "markdown",
      "source": [
        "- 目標網站描述\n",
        "  - 目標網站：KKday 名古屋旅遊指南頁面。  \n",
        "  https://www.kkday.com/zh-tw/destination/jp-nagoya\n",
        "  - 頁面結構：名古屋 Top 10商品圖片、價格、評價等資訊，另外也有熱門景點、交通票卷、旅遊攻略等主題區塊。\n",
        "\n",
        "- 工具與技術\n",
        "  - 使用 Python 的 `requests` 庫發送 HTTP 請求。\n",
        "  - 使用 `BeautifulSoup` 解析 HTML。\n",
        "  - 使用 Google Chrome 開發者工具取得 AJAX 資料。\n"
      ],
      "metadata": {
        "id": "zkix6XqZ429E"
      }
    },
    {
      "cell_type": "code",
      "source": [
        "# 爬取資料程式碼\n",
        "import requests\n",
        "from bs4 import BeautifulSoup\n",
        "\n",
        "url = 'https://www.kkday.com/zh-tw/destination/jp-nagoya'\n",
        "headers = {'user-agent': 'Mozilla/5.0 (Windows NT 10.0; Win64; x64) AppleWebKit/537.36 (KHTML, like Gecko) Chrome/134.0.0.0 Safari/537.36'}\n",
        "response = requests.get(url, headers=headers)\n",
        "soup = BeautifulSoup(response.text, 'lxml')\n",
        "soup.title"
      ],
      "metadata": {
        "id": "ziaWIQ0t8vKt",
        "colab": {
          "base_uri": "https://localhost:8080/"
        },
        "outputId": "c9a2d2f3-52a8-48a1-d20b-a919367b0164"
      },
      "execution_count": 1,
      "outputs": [
        {
          "output_type": "execute_result",
          "data": {
            "text/plain": [
              "<title>名古屋旅遊指南 - KKday</title>"
            ]
          },
          "metadata": {},
          "execution_count": 1
        }
      ]
    },
    {
      "cell_type": "code",
      "source": [
        "import requests\n",
        "url = 'https://www.kkday.com/zh-tw/destination_api/ajax_get_destination_top_products?destination=D-JP-3956'\n",
        "headers = {'user-agent': 'Mozilla/5.0 (Windows NT 10.0; Win64; x64) AppleWebKit/537.36 (KHTML, like Gecko) Chrome/134.0.0.0 Safari/537.36'}\n",
        "response = requests.get(url,headers=headers)\n",
        "products = response.json()\n",
        "products['data'][0]"
      ],
      "metadata": {
        "colab": {
          "base_uri": "https://localhost:8080/"
        },
        "id": "cmmLmqjD4-IT",
        "outputId": "8ffc2195-7013-47ab-8509-c869a86b9d6d"
      },
      "execution_count": 2,
      "outputs": [
        {
          "output_type": "execute_result",
          "data": {
            "text/plain": [
              "{'prod_mid': 20418,\n",
              " 'prod_oid': 20418,\n",
              " 'name': '日本中部國際機場 NGO ⇆ 名古屋站|名鐵機場特急列車 電子車票',\n",
              " 'introduction': '名古屋中部國際機場到名古屋市區最方便交通方式,事先在 KKday 購買機場車票享有優惠價格,提供單程跟往返讓旅客可以依照需求做選擇,可從中部國際機場站或名鐵名古屋站搭乘,讓你輕鬆到達名古屋市區!',\n",
              " 'rating_count': 3137,\n",
              " 'rating_star': 4.73,\n",
              " 'show_order_count': '30K+',\n",
              " 'earliest_sale_date': '20250517',\n",
              " 'sale_status': 1,\n",
              " 'purchase_type': None,\n",
              " 'purchase_date': None,\n",
              " 'is_tourism_product': True,\n",
              " 'readable_url': 'chubu-centrair-international-airport-express-train-transfer-to-nagoya',\n",
              " 'product_category': {'main': 'CATEGORY_065', 'sub': []},\n",
              " 'display_tags': ['即買即用', '立即確認', '期間內隨時可用'],\n",
              " 'img_url_list': ['https://image.kkday.com/image/get/w_600%2Cc_fit/s1.kkday.com/product_20418/20181102040933_clpC0/png',\n",
              "  'https://image.kkday.com/image/get/w_600%2Cc_fit/s1.kkday.com/product_20418/20240711034801_z4Jy5/jpg',\n",
              "  'https://image.kkday.com/image/get/w_600%2Cc_fit/s1.kkday.com/product_20418/20240711034649_ECkHP/jpg',\n",
              "  'https://image.kkday.com/image/get/w_600%2Cc_fit/s1.kkday.com/product_20418/20240711034648_oUAXX/jpg'],\n",
              " 'currency': 'TWD',\n",
              " 'official_price': 203,\n",
              " 'max_price': 203,\n",
              " 'min_price': 203,\n",
              " 'discount': 0,\n",
              " 'is_display_price': False,\n",
              " 'destinations': [{'code': 'D-JP-3956', 'name': '名古屋'},\n",
              "  {'code': 'D-JP-3252', 'name': '愛知縣'},\n",
              "  {'code': 'D-JP-3216', 'name': '東海道'},\n",
              "  {'code': 'D-JP-112', 'name': '日本'}],\n",
              " 'is_marketplace': False,\n",
              " 'supplier_oid_list': [7008],\n",
              " 'supplier_name': None,\n",
              " 'supplier_logo': None,\n",
              " 'supplier_badge': 0,\n",
              " 'is_zero_price': False,\n",
              " 'is_kkday_best_route': False}"
            ]
          },
          "metadata": {},
          "execution_count": 2
        }
      ]
    },
    {
      "cell_type": "markdown",
      "source": [
        "## 結果\n"
      ],
      "metadata": {
        "id": "mHEo_iad7QMa"
      }
    },
    {
      "cell_type": "markdown",
      "source": [
        "- 數據存儲方式\n",
        "  - 將數據存儲為 CSV 格式，方便後續分析。"
      ],
      "metadata": {
        "id": "Fx3h33cU8n8t"
      }
    },
    {
      "cell_type": "code",
      "source": [
        "# 展示資料程式碼\n",
        "from IPython.display import Image, display\n",
        "count = 0\n",
        "for product in products['data']:\n",
        "    print(product['name'])\n",
        "    print(f\"評分(評價數):{product['rating_star']}({product['rating_count']}) 價錢:{product['official_price']}台幣\")\n",
        "    print(f\"介紹:{product['introduction']}\")\n",
        "    img_url = product['img_url_list'][0]  # 取得列表中的第一張圖片(遇到的問題，沒有單一展示照片，所以這樣解決)\n",
        "    display(Image(url=img_url, width=300))\n",
        "    #最後結尾不想畫線\n",
        "    count += 1\n",
        "    if count<10:\n",
        "      print('-'*40)"
      ],
      "metadata": {
        "id": "jsLbLuSa8mnY",
        "colab": {
          "base_uri": "https://localhost:8080/",
          "height": 1000
        },
        "outputId": "2402ca2a-3eba-4f77-c85f-1cc7c37bafe2"
      },
      "execution_count": 5,
      "outputs": [
        {
          "output_type": "stream",
          "name": "stdout",
          "text": [
            "日本中部國際機場 NGO ⇆ 名古屋站|名鐵機場特急列車 電子車票\n",
            "評分(評價數):4.73(3137) 價錢:203台幣\n",
            "介紹:名古屋中部國際機場到名古屋市區最方便交通方式,事先在 KKday 購買機場車票享有優惠價格,提供單程跟往返讓旅客可以依照需求做選擇,可從中部國際機場站或名鐵名古屋站搭乘,讓你輕鬆到達名古屋市區!\n"
          ]
        },
        {
          "output_type": "display_data",
          "data": {
            "text/html": [
              "<img src=\"https://image.kkday.com/image/get/w_600%2Cc_fit/s1.kkday.com/product_20418/20181102040933_clpC0/png\" width=\"300\"/>"
            ],
            "text/plain": [
              "<IPython.core.display.Image object>"
            ]
          },
          "metadata": {}
        },
        {
          "output_type": "stream",
          "name": "stdout",
          "text": [
            "----------------------------------------\n",
            "日本樂高樂園門票\n",
            "評分(評價數):4.79(1581) 價錢:933台幣\n",
            "介紹:日本名古屋樂高樂園位於名古屋,提供 7 個不同主題的互動冒險樂高積木奇幻設施,是相當知名的名古屋親子景點,現於KKday下訂日本樂高樂園門票,不必排隊購票即可輕鬆入場。\n"
          ]
        },
        {
          "output_type": "display_data",
          "data": {
            "text/html": [
              "<img src=\"https://image.kkday.com/image/get/w_600%2Cc_fit/s1.kkday.com/product_12797/20250516085959_AXJYH/png\" width=\"300\"/>"
            ],
            "text/plain": [
              "<IPython.core.display.Image object>"
            ]
          },
          "metadata": {}
        },
        {
          "output_type": "stream",
          "name": "stdout",
          "text": [
            "----------------------------------------\n",
            "日本關西機場 (KIX) 至|大阪・京都 ・奈良 ・ 神戶 ・名古屋・四國・岡山・鳥取・廣島等接機或送機\n",
            "評分(評價數):4.92(2743) 價錢:425台幣\n",
            "介紹:立即在 KKday 訂購日本關西機場接送服務,往返關西機場至各飯店,接送範圍包含大阪、京都、奈良、神戶市等區域,提供24小時服務,舒適座車及專業的司機。盡享舒適愜意的專車接送服務!\n"
          ]
        },
        {
          "output_type": "display_data",
          "data": {
            "text/html": [
              "<img src=\"https://image.kkday.com/image/get/w_600%2Cc_fit/s1.kkday.com/product_129909/20220824024702_UEuVX/jpg\" width=\"300\"/>"
            ],
            "text/plain": [
              "<IPython.core.display.Image object>"
            ]
          },
          "metadata": {}
        },
        {
          "output_type": "stream",
          "name": "stdout",
          "text": [
            "----------------------------------------\n",
            "日本關西|近鐵電車周遊券 KINTETSU RAIL PASS  1 / 2 / 5 日券一般版 / 5 日券 PLUS 版\n",
            "評分(評價數):4.67(820) 價錢:393台幣\n",
            "介紹:近鐵電車周遊 1 日券 / 2 日券適用於大阪、京都、奈良等地;近鐵周遊 5 日券一般版 / 5 日券 PLUS 版,可擴大適用至伊勢、志摩、鳥羽、名古屋等地交通運輸,能自由乘坐近鐵電車、伊賀鐵道全線與巴士前往各大觀光景點,憑券更享觀光設施優惠,透過 KKday 訂購近鐵電車周遊券,輕鬆暢遊關西、京阪及周邊鄰近城市。\n"
          ]
        },
        {
          "output_type": "display_data",
          "data": {
            "text/html": [
              "<img src=\"https://image.kkday.com/image/get/w_600%2Cc_fit/s1.kkday.com/product_19415/20180622023011_zfhk4/jpg\" width=\"300\"/>"
            ],
            "text/plain": [
              "<IPython.core.display.Image object>"
            ]
          },
          "metadata": {}
        },
        {
          "output_type": "stream",
          "name": "stdout",
          "text": [
            "----------------------------------------\n",
            "白川鄉一日遊|飛驒高山  世界遺產白川鄉合掌村  可進入白川鄉展望台|可選酒店接送(名古屋出發)\n",
            "評分(評價數):4.6(1026) 價錢:1452台幣\n",
            "介紹:跟隨KKday一起,探索白川鄉童話世界,限定保證上展望台,展望台是眺望荻町合掌建築的最佳點,在展望台上可以看到合掌村的全貌。領略世界遺產白川鄉合掌村的美麗風光。更可來到飛驒高山,古街漫步,品嘗日本傳統美食。\n"
          ]
        },
        {
          "output_type": "display_data",
          "data": {
            "text/html": [
              "<img src=\"https://image.kkday.com/image/get/w_600%2Cc_fit/s1.kkday.com/product_135964/20250319123703_RzYUN/jpg\" width=\"300\"/>"
            ],
            "text/plain": [
              "<IPython.core.display.Image object>"
            ]
          },
          "metadata": {}
        },
        {
          "output_type": "stream",
          "name": "stdout",
          "text": [
            "----------------------------------------\n",
            "【1人遊】日本北陸岐阜|飛騨高山古街景 + 世界遺產白川鄉合掌村 & 白川鄉瞭望台交通 |名古屋出發一日遊(名古屋返回)\n",
            "評分(評價數):4.63(1545) 價錢:1825台幣\n",
            "介紹:參觀世界遺產白川鄉。那裡的113棟建築將純淨美麗的鄉村風景與經典的白川鄉氛圍融為一體,營造出如夢似幻的仙境。白川鄉一年四季都有不同的美景,無論哪個季節都不容錯過。\n",
            "岐阜縣的高山不僅被評選為米其林三星旅遊景點,還被選為日本最受歡迎的歷史名城之一。高山陣屋是日本唯一保留了當時的督撫衙門和奉行衙門本殿的地方,在這裡可以感受到江戶時代(1603-1868 年)的氛圍。高山的街道上仍保留著許多江戶時代的傳統木屋,給人一種古老的感覺。\n"
          ]
        },
        {
          "output_type": "display_data",
          "data": {
            "text/html": [
              "<img src=\"https://image.kkday.com/image/get/w_600%2Cc_fit/s1.kkday.com/product_155194/20231031082907_oV5Xq/jpg\" width=\"300\"/>"
            ],
            "text/plain": [
              "<IPython.core.display.Image object>"
            ]
          },
          "metadata": {}
        },
        {
          "output_type": "stream",
          "name": "stdout",
          "text": [
            "----------------------------------------\n",
            "黑部立山雪牆絕景三日遊|立山黑部阿爾卑斯山路線大雪谷&上高地&白川鄉合掌村&飛騨高山古街&兼六園&近江町市場|日本名古屋出發\n",
            "評分(評價數):4.7(376) 價錢:19472台幣\n",
            "介紹:立即訂購 KKday 黑部立山雪牆三日遊,帶你從名古屋出發,輕鬆體驗立山黑部大雪谷絕景帶來的震撼;感受被氣勢宏偉群山環繞及湖泊清澈見底的神的故鄉上高地;漫遊世界文化遺產白川鄉合掌村;在金澤近江町市場大啖海膽、生蠔、帆立貝等新鮮海產。\n"
          ]
        },
        {
          "output_type": "display_data",
          "data": {
            "text/html": [
              "<img src=\"https://image.kkday.com/image/get/w_600%2Cc_fit/s1.kkday.com/product_158778/20231222043004_AfjEW/jpg\" width=\"300\"/>"
            ],
            "text/plain": [
              "<IPython.core.display.Image object>"
            ]
          },
          "metadata": {}
        },
        {
          "output_type": "stream",
          "name": "stdout",
          "text": [
            "----------------------------------------\n",
            "日本中部一日遊|白川鄉合掌村&飛驒高山老街|名古屋出發\n",
            "評分(評價數):4.57(483) 價錢:2333台幣\n",
            "介紹:現在預約日本人氣中部一日遊,搭乘巴士輕鬆遊,走訪人氣世界文化遺產白川鄉,還可以在高山老街品嚐飛驒牛美食!\n"
          ]
        },
        {
          "output_type": "display_data",
          "data": {
            "text/html": [
              "<img src=\"https://image.kkday.com/image/get/w_600%2Cc_fit/s1.kkday.com/product_136327/20240712091708_iIo4J/jpg\" width=\"300\"/>"
            ],
            "text/plain": [
              "<IPython.core.display.Image object>"
            ]
          },
          "metadata": {}
        },
        {
          "output_type": "stream",
          "name": "stdout",
          "text": [
            "----------------------------------------\n",
            "立山黑部&高山&松本地區周遊券JR PASS\n",
            "評分(評價數):4.87(299) 價錢:4977台幣\n",
            "介紹:於KKday購買立山黑部&高山&松本地區周遊券JR PASS,即可使用日本中部與北陸地區最方便的交通套票,彈性搭乘名古屋、高山、富山、松本、信濃大町等地區路線列車,暢遊立山黑部阿爾卑斯山脈路線與周邊城市。\n"
          ]
        },
        {
          "output_type": "display_data",
          "data": {
            "text/html": [
              "<img src=\"https://image.kkday.com/image/get/w_600%2Cc_fit/s1.kkday.com/product_20301/20181022101608_MCMNR/jpg\" width=\"300\"/>"
            ],
            "text/plain": [
              "<IPython.core.display.Image object>"
            ]
          },
          "metadata": {}
        },
        {
          "output_type": "stream",
          "name": "stdout",
          "text": [
            "----------------------------------------\n",
            "日本愛知|吉卜力公園 Ghibli park 大散步高級門票&名古屋酒店住宿|保證入場\n",
            "評分(評價數):4.47(184) 價錢:5599台幣\n",
            "介紹:透過KKday立即購買一票難求的吉卜力公園大倉庫門票,飯店住宿安排完善,可加購新幹線往返東京。\n"
          ]
        },
        {
          "output_type": "display_data",
          "data": {
            "text/html": [
              "<img src=\"https://image.kkday.com/image/get/w_600%2Cc_fit/s1.kkday.com/product_139872/20250314021836_rNQeJ/jpg\" width=\"300\"/>"
            ],
            "text/plain": [
              "<IPython.core.display.Image object>"
            ]
          },
          "metadata": {}
        }
      ]
    },
    {
      "cell_type": "markdown",
      "source": [
        "## 問題與挑戰"
      ],
      "metadata": {
        "id": "6yHFop_b73gY"
      }
    },
    {
      "cell_type": "markdown",
      "source": [
        "- 技術挑戰  \n",
        "    需透過 AJAX 取得資料，且欲爬取之圖片資料是以list型別存取，因此需要先取得list中所需的圖片元素後，再進行展示。\n",
        "- 資料限制  \n",
        "    僅有十筆推薦資料，且單一網站的評價不能代表所有人的看法，因此還是需要多方比較才能規劃出更適合自身的行程。"
      ],
      "metadata": {
        "id": "D6roihku8PBu"
      }
    },
    {
      "cell_type": "markdown",
      "source": [
        "## 結論"
      ],
      "metadata": {
        "id": "VeQHgVuqqD3J"
      }
    },
    {
      "cell_type": "markdown",
      "source": [
        "\n",
        "- 成功獲取並分析了 KKday 推薦的前十名名古屋商品資訊，為旅遊行程規劃提供了有參考價值的資料。\n",
        "- 未來可擴展至其他目的地以及旅遊平台，進行不同地點與平台的行程比較與分析。"
      ],
      "metadata": {
        "id": "Baea2g7J9DAL"
      }
    },
    {
      "cell_type": "markdown",
      "source": [
        "## 參考文獻"
      ],
      "metadata": {
        "id": "j5hI_9QW9dTt"
      }
    },
    {
      "cell_type": "markdown",
      "source": [
        "* [KKDay](https://www.kkday.com/zh-tw/)"
      ],
      "metadata": {
        "id": "eLFvp2Fk9fSa"
      }
    }
  ]
}