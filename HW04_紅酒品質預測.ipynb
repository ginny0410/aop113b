{
  "nbformat": 4,
  "nbformat_minor": 0,
  "metadata": {
    "colab": {
      "provenance": [],
      "include_colab_link": true
    },
    "kernelspec": {
      "name": "python3",
      "display_name": "Python 3"
    },
    "language_info": {
      "name": "python"
    }
  },
  "cells": [
    {
      "cell_type": "markdown",
      "metadata": {
        "id": "view-in-github",
        "colab_type": "text"
      },
      "source": [
        "<a href=\"https://colab.research.google.com/github/ginny0410/aop113b/blob/main/HW04_%E7%B4%85%E9%85%92%E5%93%81%E8%B3%AA%E9%A0%90%E6%B8%AC.ipynb\" target=\"_parent\"><img src=\"https://colab.research.google.com/assets/colab-badge.svg\" alt=\"Open In Colab\"/></a>"
      ]
    },
    {
      "cell_type": "markdown",
      "source": [
        "## 問題定義"
      ],
      "metadata": {
        "id": "LuGH8K4Mbmmp"
      }
    },
    {
      "cell_type": "markdown",
      "source": [
        "* **目標**：根據紅酒的11個化學特徵，預測紅酒品質等級（低品質、中品質、高品質）。\n",
        "* **任務類型**：多類別監督式分類。\n",
        "* **核心模型**：**K-Nearest Neighbors (KNN)。**。\n",
        "* **評估指標**：主要使用 **Accuracy**，輔以 Precision、Recall、F1、混淆矩陣。"
      ],
      "metadata": {
        "id": "1z_kgAT9bqB5"
      }
    },
    {
      "cell_type": "markdown",
      "source": [
        "## 資料收集"
      ],
      "metadata": {
        "id": "5YCyVo5Xbuq4"
      }
    },
    {
      "cell_type": "markdown",
      "source": [
        "| 來源                   | 特徵數 | 樣本數 | 類別 |\n",
        "| -------------------- | --- | --- | -- |\n",
        "| scikit-learn 內建 Wine Quality | 11   | 1599 | 3  |"
      ],
      "metadata": {
        "id": "lfAjM_KkbyXw"
      }
    },
    {
      "cell_type": "code",
      "source": [
        "# 載入必要套件\n",
        "import pandas as pd\n",
        "import numpy as np\n",
        "from sklearn.datasets import fetch_openml\n",
        "import warnings\n",
        "warnings.filterwarnings('ignore')\n",
        "\n",
        "# 載入Wine Quality資料集\n",
        "url = \"https://archive.ics.uci.edu/ml/machine-learning-databases/wine-quality/winequality-red.csv\"\n",
        "df_raw = pd.read_csv(url, sep=';')\n",
        "\n",
        "# 確認\n",
        "print(\"資料集形狀:\", df_raw.shape)\n",
        "print(\"\\n前5筆資料:\")\n",
        "print(df_raw.head())\n",
        "print(\"\\n資料集資訊:\")\n",
        "print(df_raw.info())"
      ],
      "metadata": {
        "id": "EMn8_c-xb3jI",
        "colab": {
          "base_uri": "https://localhost:8080/"
        },
        "outputId": "21dc0d83-7aa7-4077-e1db-e881b986e8b9"
      },
      "execution_count": null,
      "outputs": [
        {
          "output_type": "stream",
          "name": "stdout",
          "text": [
            "資料集形狀: (1599, 12)\n",
            "\n",
            "前5筆資料:\n",
            "   fixed acidity  volatile acidity  citric acid  residual sugar  chlorides  \\\n",
            "0            7.4              0.70         0.00             1.9      0.076   \n",
            "1            7.8              0.88         0.00             2.6      0.098   \n",
            "2            7.8              0.76         0.04             2.3      0.092   \n",
            "3           11.2              0.28         0.56             1.9      0.075   \n",
            "4            7.4              0.70         0.00             1.9      0.076   \n",
            "\n",
            "   free sulfur dioxide  total sulfur dioxide  density    pH  sulphates  \\\n",
            "0                 11.0                  34.0   0.9978  3.51       0.56   \n",
            "1                 25.0                  67.0   0.9968  3.20       0.68   \n",
            "2                 15.0                  54.0   0.9970  3.26       0.65   \n",
            "3                 17.0                  60.0   0.9980  3.16       0.58   \n",
            "4                 11.0                  34.0   0.9978  3.51       0.56   \n",
            "\n",
            "   alcohol  quality  \n",
            "0      9.4        5  \n",
            "1      9.8        5  \n",
            "2      9.8        5  \n",
            "3      9.8        6  \n",
            "4      9.4        5  \n",
            "\n",
            "資料集資訊:\n",
            "<class 'pandas.core.frame.DataFrame'>\n",
            "RangeIndex: 1599 entries, 0 to 1598\n",
            "Data columns (total 12 columns):\n",
            " #   Column                Non-Null Count  Dtype  \n",
            "---  ------                --------------  -----  \n",
            " 0   fixed acidity         1599 non-null   float64\n",
            " 1   volatile acidity      1599 non-null   float64\n",
            " 2   citric acid           1599 non-null   float64\n",
            " 3   residual sugar        1599 non-null   float64\n",
            " 4   chlorides             1599 non-null   float64\n",
            " 5   free sulfur dioxide   1599 non-null   float64\n",
            " 6   total sulfur dioxide  1599 non-null   float64\n",
            " 7   density               1599 non-null   float64\n",
            " 8   pH                    1599 non-null   float64\n",
            " 9   sulphates             1599 non-null   float64\n",
            " 10  alcohol               1599 non-null   float64\n",
            " 11  quality               1599 non-null   int64  \n",
            "dtypes: float64(11), int64(1)\n",
            "memory usage: 150.0 KB\n",
            "None\n"
          ]
        }
      ]
    },
    {
      "cell_type": "markdown",
      "source": [
        "## 資料前處理"
      ],
      "metadata": {
        "id": "C2u_ggR-eJ1d"
      }
    },
    {
      "cell_type": "markdown",
      "source": [
        "### 資料清理"
      ],
      "metadata": {
        "id": "7yHPecJ2eMid"
      }
    },
    {
      "cell_type": "code",
      "source": [
        "# 檢查遺漏值\n",
        "print(\"遺漏值統計:\")\n",
        "print(df_raw.isnull().sum())\n",
        "\n",
        "# 檢查重複值\n",
        "print(f\"\\n重複資料筆數: {df_raw.duplicated().sum()}\")\n",
        "\n",
        "# 移除重複資料\n",
        "df_clean = df_raw.drop_duplicates()\n",
        "print(f\"清理後資料形狀: {df_clean.shape}\")\n",
        "\n",
        "# 將品質分數轉換為類別標籤\n",
        "def quality_to_category(quality):\n",
        "    if quality <= 5:\n",
        "        return 0  # 低品質\n",
        "    elif quality <= 6:\n",
        "        return 1  # 中品質\n",
        "    else:\n",
        "        return 2  # 高品質\n",
        "\n",
        "df_clean['quality_category'] = df_clean['quality'].apply(quality_to_category)\n",
        "category_names = ['低品質', '中品質', '高品質']\n",
        "\n",
        "print(\"\\n品質分布:\")\n",
        "print(df_clean['quality_category'].value_counts().sort_index())"
      ],
      "metadata": {
        "id": "AG9kFRxveR6F",
        "colab": {
          "base_uri": "https://localhost:8080/"
        },
        "outputId": "db3ef6e9-354a-4fe7-ff25-0bb1dbc4b756"
      },
      "execution_count": null,
      "outputs": [
        {
          "output_type": "stream",
          "name": "stdout",
          "text": [
            "遺漏值統計:\n",
            "fixed acidity           0\n",
            "volatile acidity        0\n",
            "citric acid             0\n",
            "residual sugar          0\n",
            "chlorides               0\n",
            "free sulfur dioxide     0\n",
            "total sulfur dioxide    0\n",
            "density                 0\n",
            "pH                      0\n",
            "sulphates               0\n",
            "alcohol                 0\n",
            "quality                 0\n",
            "dtype: int64\n",
            "\n",
            "重複資料筆數: 240\n",
            "清理後資料形狀: (1359, 12)\n",
            "\n",
            "品質分布:\n",
            "quality_category\n",
            "0    640\n",
            "1    535\n",
            "2    184\n",
            "Name: count, dtype: int64\n"
          ]
        }
      ]
    },
    {
      "cell_type": "markdown",
      "source": [
        "### 探索性分析"
      ],
      "metadata": {
        "id": "iMtUvzH_eYkd"
      }
    },
    {
      "cell_type": "code",
      "source": [
        "import seaborn as sns\n",
        "import matplotlib.pyplot as plt\n",
        "\n",
        "# 設定中文字型\n",
        "#plt.rcParams['font.sans-serif'] = ['SimHei', 'Arial Unicode MS']\n",
        "#plt.rcParams['axes.unicode_minus'] = False\n",
        "\n",
        "# 品質分布圖\n",
        "plt.figure(figsize=(10, 6))\n",
        "plt.subplot(1, 2, 1)\n",
        "df_clean['quality'].hist(bins=6, alpha=0.7, color='skyblue')\n",
        "plt.title('原始品質分數分布')\n",
        "plt.xlabel('品質分數')\n",
        "plt.ylabel('頻次')\n",
        "\n",
        "plt.subplot(1, 2, 2)\n",
        "quality_counts = df_clean['quality_category'].value_counts().sort_index()\n",
        "plt.bar(range(len(category_names)), quality_counts.values, color=['red', 'orange', 'green'])\n",
        "plt.title('品質類別分布')\n",
        "plt.xlabel('品質類別')\n",
        "plt.ylabel('頻次')\n",
        "plt.xticks(range(len(category_names)), category_names)\n",
        "plt.tight_layout()\n",
        "plt.show()\n",
        "\n",
        "# 相關係數熱力圖\n",
        "plt.figure(figsize=(12, 10))\n",
        "numeric_cols = df_clean.select_dtypes(include=[np.number]).columns\n",
        "correlation_matrix = df_clean[numeric_cols].corr()\n",
        "sns.heatmap(correlation_matrix, annot=True, cmap='coolwarm', center=0, fmt='.2f')\n",
        "plt.title('特徵相關係數熱力圖')\n",
        "plt.tight_layout()\n",
        "plt.show()"
      ],
      "metadata": {
        "id": "P-yKBOSYedPG"
      },
      "execution_count": null,
      "outputs": []
    },
    {
      "cell_type": "markdown",
      "source": [
        "### 資料分割"
      ],
      "metadata": {
        "id": "WmpIVCTRfD3t"
      }
    },
    {
      "cell_type": "code",
      "source": [
        "# 準備\n",
        "feature_columns = [col for col in df_clean.columns if col not in ['quality', 'quality_category']]\n",
        "X = df_clean[feature_columns].values\n",
        "y = df_clean['quality_category'].values\n",
        "\n",
        "print(\"特徵名稱:\")\n",
        "for i, col in enumerate(feature_columns):\n",
        "    print(f\"{i+1}. {col}\")\n",
        "\n",
        "print(f\"\\n特徵矩陣形狀: {X.shape}\")\n",
        "print(f\"目標變數形狀: {y.shape}\")"
      ],
      "metadata": {
        "id": "ANLjbcn7e2tP",
        "colab": {
          "base_uri": "https://localhost:8080/"
        },
        "outputId": "46bc6380-6b86-4d24-a47a-65ea199f5002"
      },
      "execution_count": null,
      "outputs": [
        {
          "output_type": "stream",
          "name": "stdout",
          "text": [
            "特徵名稱:\n",
            "1. fixed acidity\n",
            "2. volatile acidity\n",
            "3. citric acid\n",
            "4. residual sugar\n",
            "5. chlorides\n",
            "6. free sulfur dioxide\n",
            "7. total sulfur dioxide\n",
            "8. density\n",
            "9. pH\n",
            "10. sulphates\n",
            "11. alcohol\n",
            "\n",
            "特徵矩陣形狀: (1359, 11)\n",
            "目標變數形狀: (1359,)\n"
          ]
        }
      ]
    },
    {
      "cell_type": "code",
      "source": [
        "from sklearn.model_selection import train_test_split\n",
        "\n",
        "X_train, X_test, y_train, y_test = train_test_split(\n",
        "    X, y,\n",
        "    test_size=0.2,\n",
        "    stratify=y,\n",
        "    random_state=42\n",
        ")\n",
        "\n",
        "print(f\"訓練集大小: {X_train.shape}\")\n",
        "print(f\"測試集大小: {X_test.shape}\")\n",
        "print(f\"訓練集標籤分布: {np.bincount(y_train)}\")\n",
        "print(f\"測試集標籤分布: {np.bincount(y_test)}\")"
      ],
      "metadata": {
        "colab": {
          "base_uri": "https://localhost:8080/"
        },
        "id": "dEcLuVVFioDc",
        "outputId": "0c38f29a-cb45-4b42-be70-0a4c98487e5b"
      },
      "execution_count": null,
      "outputs": [
        {
          "output_type": "stream",
          "name": "stdout",
          "text": [
            "訓練集大小: (1087, 11)\n",
            "測試集大小: (272, 11)\n",
            "訓練集標籤分布: [512 428 147]\n",
            "測試集標籤分布: [128 107  37]\n"
          ]
        }
      ]
    },
    {
      "cell_type": "markdown",
      "source": [
        "### 特徵縮放"
      ],
      "metadata": {
        "id": "GBE6NKnwesSN"
      }
    },
    {
      "cell_type": "code",
      "source": [
        "from sklearn.preprocessing import StandardScaler\n",
        "\n",
        "# KNN 依賴距離計算，必須標準化特徵\n",
        "scaler = StandardScaler()\n",
        "X_train_scaled = scaler.fit_transform(X_train)\n",
        "X_test_scaled = scaler.transform(X_test)\n",
        "\n",
        "print(\"標準化前特徵範圍:\")\n",
        "print(f\"最小值: {X_train.min(axis=0)[:5]}...\")  # 只顯示前5個特徵\n",
        "print(f\"最大值: {X_train.max(axis=0)[:5]}...\")\n",
        "\n",
        "print(\"\\n標準化後特徵範圍:\")\n",
        "print(f\"平均值: {X_train_scaled.mean(axis=0)[:5]}...\")\n",
        "print(f\"標準差: {X_train_scaled.std(axis=0)[:5]}...\")"
      ],
      "metadata": {
        "id": "q8paFcp3fHs_",
        "colab": {
          "base_uri": "https://localhost:8080/"
        },
        "outputId": "6fcfa8a1-c988-41ec-b481-95d0b57334a0"
      },
      "execution_count": null,
      "outputs": [
        {
          "output_type": "stream",
          "name": "stdout",
          "text": [
            "標準化前特徵範圍:\n",
            "最小值: [4.7   0.12  0.    0.9   0.012]...\n",
            "最大值: [15.9    1.58   1.    15.5    0.611]...\n",
            "\n",
            "標準化後特徵範圍:\n",
            "平均值: [-4.83002074e-15  4.55487636e-15 -7.66227519e-16 -9.61001696e-16\n",
            "  4.64490962e-15]...\n",
            "標準差: [1. 1. 1. 1. 1.]...\n"
          ]
        }
      ]
    },
    {
      "cell_type": "markdown",
      "source": [
        "## 模型訓練"
      ],
      "metadata": {
        "id": "lGoI1XOFfQhd"
      }
    },
    {
      "cell_type": "markdown",
      "source": [
        "採用 KNN 演算法訓練模型。"
      ],
      "metadata": {
        "id": "5lOkB1JIfTNe"
      }
    },
    {
      "cell_type": "code",
      "source": [
        "from sklearn.neighbors import KNeighborsClassifier\n",
        "from sklearn.pipeline import make_pipeline\n",
        "\n",
        "# 建立KNN分類器管線\n",
        "knn_clf = make_pipeline(\n",
        "    StandardScaler(),          # 確保推論時特徵縮放一致\n",
        "    KNeighborsClassifier(\n",
        "        n_neighbors=5,         # 預設 k=5\n",
        "        weights=\"uniform\",     # 等權重\n",
        "        metric=\"euclidean\"     # 歐氏距離\n",
        "    )\n",
        ")\n",
        "\n",
        "# 訓練模型\n",
        "knn_clf.fit(X_train, y_train)\n",
        "print(\"訓練完成\")"
      ],
      "metadata": {
        "id": "2rbtqpNAfcNW",
        "colab": {
          "base_uri": "https://localhost:8080/"
        },
        "outputId": "02981a40-28ba-437d-f91e-0687573de09e"
      },
      "execution_count": null,
      "outputs": [
        {
          "output_type": "stream",
          "name": "stdout",
          "text": [
            "訓練完成\n"
          ]
        }
      ]
    },
    {
      "cell_type": "markdown",
      "source": [
        "## 模型評估"
      ],
      "metadata": {
        "id": "EvdSOhFLfjVP"
      }
    },
    {
      "cell_type": "code",
      "source": [
        "from sklearn.metrics import accuracy_score, classification_report, confusion_matrix\n",
        "import seaborn as sns\n",
        "\n",
        "\n",
        "# 預測\n",
        "y_pred = knn_clf.predict(X_test)\n",
        "\n",
        "# 計算準確率\n",
        "acc = accuracy_score(y_test, y_pred)\n",
        "print(f\"Test Accuracy: {acc:.3f}\")\n",
        "\n",
        "# 分類報告\n",
        "print(\"\\nClassification Report:\")\n",
        "print(classification_report(y_test, y_pred, target_names=category_names))\n",
        "\n",
        "# 混淆矩陣\n",
        "cm = confusion_matrix(y_test, y_pred)\n",
        "print(\"\\nConfusion Matrix:\")\n",
        "print(cm)\n",
        "\n",
        "# 視覺化混淆矩陣\n",
        "plt.figure(figsize=(8, 6))\n",
        "sns.heatmap(cm, annot=True, fmt='d', cmap='Blues',\n",
        "            xticklabels=category_names,\n",
        "            yticklabels=category_names)\n",
        "plt.title('混淆矩陣')\n",
        "plt.xlabel('預測標籤')\n",
        "plt.ylabel('實際標籤')\n",
        "plt.show()"
      ],
      "metadata": {
        "id": "pdvPr32jfqee"
      },
      "execution_count": null,
      "outputs": []
    },
    {
      "cell_type": "markdown",
      "source": [
        "## 模型調整"
      ],
      "metadata": {
        "id": "B4c2Nvf1f0c1"
      }
    },
    {
      "cell_type": "code",
      "source": [
        "from sklearn.model_selection import GridSearchCV\n",
        "\n",
        "# 建立管線\n",
        "pipe = make_pipeline(StandardScaler(), KNeighborsClassifier())\n",
        "\n",
        "# 定義參數網格\n",
        "param_grid = {\n",
        "    \"kneighborsclassifier__n_neighbors\": range(3, 21, 2),  # k值從3到20\n",
        "    \"kneighborsclassifier__weights\": [\"uniform\", \"distance\"],\n",
        "    \"kneighborsclassifier__metric\": [\"euclidean\", \"manhattan\", \"minkowski\"]\n",
        "}\n",
        "\n",
        "# 網格搜索\n",
        "grid = GridSearchCV(\n",
        "    pipe,\n",
        "    param_grid,\n",
        "    cv=5,                    # 5折交叉驗證\n",
        "    scoring=\"accuracy\",\n",
        "    n_jobs=-1,\n",
        "    verbose=1\n",
        ")\n",
        "\n",
        "print(\"開始網格搜索...\")\n",
        "grid.fit(X_train, y_train)\n",
        "\n",
        "print(f\"最佳參數: {grid.best_params_}\")\n",
        "print(f\"CV 平均 Accuracy: {grid.best_score_:.3f}\")\n",
        "\n",
        "# 使用最佳模型\n",
        "best_model = grid.best_estimator_"
      ],
      "metadata": {
        "id": "1ARJr_48f7G9",
        "colab": {
          "base_uri": "https://localhost:8080/"
        },
        "outputId": "73c25a72-4282-4d60-d7d7-476e0f4317f4"
      },
      "execution_count": null,
      "outputs": [
        {
          "output_type": "stream",
          "name": "stdout",
          "text": [
            "開始網格搜索...\n",
            "Fitting 5 folds for each of 54 candidates, totalling 270 fits\n",
            "最佳參數: {'kneighborsclassifier__metric': 'euclidean', 'kneighborsclassifier__n_neighbors': 19, 'kneighborsclassifier__weights': 'distance'}\n",
            "CV 平均 Accuracy: 0.604\n"
          ]
        }
      ]
    },
    {
      "cell_type": "code",
      "source": [
        "# 使用最佳模型預測\n",
        "y_pred_best = best_model.predict(X_test)\n",
        "acc_best = accuracy_score(y_test, y_pred_best)\n",
        "\n",
        "print(f\"基礎模型準確率: {acc:.3f}\")\n",
        "print(f\"優化後模型準確率: {acc_best:.3f}\")\n",
        "print(f\"準確率提升: {acc_best - acc:.3f}\")\n",
        "\n",
        "# 最佳模型的詳細評估\n",
        "print(\"\\n優化後模型分類報告:\")\n",
        "print(classification_report(y_test, y_pred_best, target_names=category_names))"
      ],
      "metadata": {
        "colab": {
          "base_uri": "https://localhost:8080/"
        },
        "id": "7Ywb00nojIdH",
        "outputId": "c88c1846-1f29-49cd-ed0a-cbc6588d7976"
      },
      "execution_count": null,
      "outputs": [
        {
          "output_type": "stream",
          "name": "stdout",
          "text": [
            "基礎模型準確率: 0.603\n",
            "優化後模型準確率: 0.614\n",
            "準確率提升: 0.011\n",
            "\n",
            "優化後模型分類報告:\n",
            "              precision    recall  f1-score   support\n",
            "\n",
            "         低品質       0.70      0.72      0.71       128\n",
            "         中品質       0.55      0.55      0.55       107\n",
            "         高品質       0.50      0.43      0.46        37\n",
            "\n",
            "    accuracy                           0.61       272\n",
            "   macro avg       0.58      0.57      0.57       272\n",
            "weighted avg       0.61      0.61      0.61       272\n",
            "\n"
          ]
        }
      ]
    },
    {
      "cell_type": "markdown",
      "source": [
        "**調參要點**\n",
        "\n",
        "| 參數            | 說明                                               |\n",
        "| ------------- | ------------------------------------------------ |\n",
        "| `n_neighbors` | k 值過小易受雜訊影響，過大則平滑過度；Wine dataset建議k=5-15。              |\n",
        "| `weights`     | `\"uniform\"`：等權；`\"distance\"`：距離反比權重，適合類別不平衡資料。    |\n",
        "| `metric`      | `euclidean`適合連續特徵；化學特徵間距離用歐氏距離較合適。 |"
      ],
      "metadata": {
        "id": "0gd61rmggEE9"
      }
    },
    {
      "cell_type": "markdown",
      "source": [
        "## 模型部署"
      ],
      "metadata": {
        "id": "Wb2EXoPNgH71"
      }
    },
    {
      "cell_type": "markdown",
      "source": [
        "### 儲存模型"
      ],
      "metadata": {
        "id": "wZaQ7GkhodIF"
      }
    },
    {
      "cell_type": "code",
      "source": [
        "import joblib\n",
        "\n",
        "# 儲存最佳模型和相關資訊\n",
        "model_artifacts = {\n",
        "    \"pipeline\": best_model,\n",
        "    \"feature_names\": feature_columns,\n",
        "    \"target_names\": category_names,\n",
        "    \"scaler_params\": {\n",
        "        \"mean\": scaler.mean_,\n",
        "        \"scale\": scaler.scale_\n",
        "    }\n",
        "}\n",
        "\n",
        "joblib.dump(model_artifacts, \"wine_quality_knn_pipeline.joblib\")\n",
        "print(\"模型已儲存至 wine_quality_knn_pipeline.joblib\")"
      ],
      "metadata": {
        "id": "gskOH7BDoYMG",
        "colab": {
          "base_uri": "https://localhost:8080/"
        },
        "outputId": "b7d57751-bd62-4bad-e35d-9289456587a0"
      },
      "execution_count": null,
      "outputs": [
        {
          "output_type": "stream",
          "name": "stdout",
          "text": [
            "模型已儲存至 wine_quality_knn_pipeline.joblib\n"
          ]
        }
      ]
    },
    {
      "cell_type": "markdown",
      "source": [
        "### 推論預測"
      ],
      "metadata": {
        "id": "3ob1YJN7ovpH"
      }
    },
    {
      "cell_type": "code",
      "source": [
        "# 載入模型進行推論\n",
        "loaded_artifacts = joblib.load(\"wine_quality_knn_pipeline.joblib\")\n",
        "loaded_pipeline = loaded_artifacts[\"pipeline\"]\n",
        "target_names = loaded_artifacts[\"target_names\"]\n",
        "\n",
        "# 範例：預測新的葡萄酒樣本\n",
        "# 特徵順序：fixed acidity, volatile acidity, citric acid, residual sugar,\n",
        "#          chlorides, free sulfur dioxide, total sulfur dioxide, density,\n",
        "#          pH, sulphates, alcohol\n",
        "sample_wine = [[7.4, 0.7, 0.0, 1.9, 0.076, 11.0, 34.0, 0.9978, 3.51, 0.56, 9.4]]\n",
        "\n",
        "# 進行預測\n",
        "pred_idx = loaded_pipeline.predict(sample_wine)[0]\n",
        "pred_proba = loaded_pipeline.predict_proba(sample_wine)[0]\n",
        "\n",
        "print(f\"預測品質類別: {target_names[pred_idx]}\")\n",
        "print(\"各類別機率:\")\n",
        "for i, prob in enumerate(pred_proba):\n",
        "    print(f\"  {target_names[i]}: {prob:.3f}\")"
      ],
      "metadata": {
        "id": "2lIs65Mioyxt",
        "colab": {
          "base_uri": "https://localhost:8080/"
        },
        "outputId": "152d69d7-2fec-4e82-de64-f0bc96a89a48"
      },
      "execution_count": null,
      "outputs": [
        {
          "output_type": "stream",
          "name": "stdout",
          "text": [
            "預測品質類別: 低品質\n",
            "各類別機率:\n",
            "  低品質: 1.000\n",
            "  中品質: 0.000\n",
            "  高品質: 0.000\n"
          ]
        }
      ]
    },
    {
      "cell_type": "markdown",
      "source": [
        "## 結論"
      ],
      "metadata": {
        "id": "bayqI_3QpB0e"
      }
    },
    {
      "cell_type": "markdown",
      "source": [
        "透過 KNN 演算法在 Wine Quality 資料集上進行葡萄酒品質分類：\n",
        "\n",
        "- 基礎模型效能：使用預設參數 k=5 達到約 55-60% 準確率\n",
        "- 優化後效能：經 GridSearch 調整參數後準確率提升至 61-65%\n",
        "- 模型特點：對特徵縮放敏感，StandardScaler 必不可少。適合的 k 值範圍為 5-15，distance weighting 對不平衡資料有改善效果。\n",
        "- 實務應用：可用於葡萄酒廠的品質自動分級系統\n",
        "\n",
        "未來改進:\n",
        "- 嘗試特徵工程（如多項式特徵、特徵選擇）\n",
        "- 考慮其他演算法（Random Forest、SVM）\n",
        "- 處理類別不平衡問題（SMOTE等技術）"
      ],
      "metadata": {
        "id": "i_eW-5PRo872"
      }
    }
  ]
}