{
  "nbformat": 4,
  "nbformat_minor": 0,
  "metadata": {
    "colab": {
      "provenance": [],
      "authorship_tag": "ABX9TyOVJuvFcqqXi3A0RGEzWAKS",
      "include_colab_link": true
    },
    "kernelspec": {
      "name": "python3",
      "display_name": "Python 3"
    },
    "language_info": {
      "name": "python"
    }
  },
  "cells": [
    {
      "cell_type": "markdown",
      "metadata": {
        "id": "view-in-github",
        "colab_type": "text"
      },
      "source": [
        "<a href=\"https://colab.research.google.com/github/ginny0410/aop113b/blob/main/EX01_03Rock_Paper_Scissors.ipynb\" target=\"_parent\"><img src=\"https://colab.research.google.com/assets/colab-badge.svg\" alt=\"Open In Colab\"/></a>"
      ]
    },
    {
      "cell_type": "code",
      "execution_count": 5,
      "metadata": {
        "colab": {
          "base_uri": "https://localhost:8080/"
        },
        "id": "ttXGPfTgHmTA",
        "outputId": "ed6ecb3b-b4f4-4858-8d2f-895df7a1d1f8"
      },
      "outputs": [
        {
          "output_type": "stream",
          "name": "stdout",
          "text": [
            "請輸入出拳選擇: 5\n",
            "computer:  0\n",
            "you win\n"
          ]
        }
      ],
      "source": [
        "import random\n",
        "computer = int(random.choice([0,2,5]))\n",
        "user = int(input('請輸入出拳選擇: '))\n",
        "print('computer: ',computer)\n",
        "if computer == user:\n",
        "  print('draw')\n",
        "elif (computer == 0 and user == 2) or (computer == 2 and user == 5) or (computer == 5 and user == 0):\n",
        "  print('you lost')\n",
        "else:\n",
        "  print('you win')\n",
        "\n"
      ]
    }
  ]
}